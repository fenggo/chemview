{
 "cells": [
  {
   "cell_type": "code",
   "execution_count": 5,
   "metadata": {
    "collapsed": false,
    "id": "test1"
   },
   "outputs": [],
   "source": [
    "# Test to check that box works well\n",
    "import numpy as np\n",
    "import chemview\n",
    "import time\n",
    "\n",
    "from chemview.widget import RepresentationViewer, TrajectoryControls\n",
    "from IPython.display import display, HTML\n",
    "\n",
    "coordinates = np.array([[0.0, 1.1, 0.1], [1, 0, 0]], 'float32')\n",
    "colors = [0xFFFFFF, 0xFF999F]\n",
    "sizes = [1.0, 2.0]\n",
    "\n",
    "rv = RepresentationViewer(300, 300)\n",
    "point_id = rv.add_representation('points', {'coordinates': coordinates, 'colors': colors, 'sizes': sizes})\n",
    "tc = TrajectoryControls(10)\n",
    "from ipywidgets import jsdlink, VBox\n",
    "\n",
    "jsdlink((rv, \"width\"), (tc, \"width\"))\n",
    "# Layout(children=(rv,tc))\n",
    "display(rv)\n",
    "display(tc)"
   ]
  }
 ],
 "metadata": {
  "kernelspec": {
   "display_name": "Python 2",
   "language": "python",
   "name": "python2"
  },
  "language_info": {
   "codemirror_mode": {
    "name": "ipython",
    "version": 2
   },
   "file_extension": ".py",
   "mimetype": "text/x-python",
   "name": "python",
   "nbconvert_exporter": "python",
   "pygments_lexer": "ipython2",
   "version": "2.7.12"
  },
  "widgets": {
   "state": {
    "ed58d9f888b04fb4a07695f3bf56c241": {
     "views": [
      {
       "cell_index": 0
      }
     ]
    }
   },
   "version": "1.2.0"
  }
 },
 "nbformat": 4,
 "nbformat_minor": 0
}
